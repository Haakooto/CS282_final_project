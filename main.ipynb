{
 "cells": [
  {
   "cell_type": "code",
   "execution_count": 11,
   "metadata": {},
   "outputs": [
    {
     "ename": "ImportError",
     "evalue": "cannot import name 'FC3' from 'models.Bayes3FC' (c:\\Users\\Khachatur\\UCB\\282_DeepL\\CS282_final_project\\models\\Bayes3FC.py)",
     "output_type": "error",
     "traceback": [
      "\u001b[1;31m---------------------------------------------------------------------------\u001b[0m",
      "\u001b[1;31mImportError\u001b[0m                               Traceback (most recent call last)",
      "\u001b[1;32mc:\\Users\\Khachatur\\UCB\\282_DeepL\\CS282_final_project\\main.ipynb Cell 1'\u001b[0m in \u001b[0;36m<cell line: 2>\u001b[1;34m()\u001b[0m\n\u001b[0;32m      <a href='vscode-notebook-cell:/c%3A/Users/Khachatur/UCB/282_DeepL/CS282_final_project/main.ipynb#ch0000000?line=0'>1</a>\u001b[0m \u001b[39mimport\u001b[39;00m \u001b[39mtorch\u001b[39;00m\n\u001b[1;32m----> <a href='vscode-notebook-cell:/c%3A/Users/Khachatur/UCB/282_DeepL/CS282_final_project/main.ipynb#ch0000000?line=1'>2</a>\u001b[0m \u001b[39mfrom\u001b[39;00m \u001b[39mmodels\u001b[39;00m\u001b[39m.\u001b[39;00m\u001b[39mBayes3FC\u001b[39;00m \u001b[39mimport\u001b[39;00m Bayesian3FC, FC3\n\u001b[0;32m      <a href='vscode-notebook-cell:/c%3A/Users/Khachatur/UCB/282_DeepL/CS282_final_project/main.ipynb#ch0000000?line=2'>3</a>\u001b[0m \u001b[39mfrom\u001b[39;00m \u001b[39mpriors\u001b[39;00m\u001b[39m.\u001b[39;00m\u001b[39mgaussian\u001b[39;00m \u001b[39mimport\u001b[39;00m gaussian\n",
      "\u001b[1;31mImportError\u001b[0m: cannot import name 'FC3' from 'models.Bayes3FC' (c:\\Users\\Khachatur\\UCB\\282_DeepL\\CS282_final_project\\models\\Bayes3FC.py)"
     ]
    }
   ],
   "source": [
    "import torch\n",
    "from models.Bayes3FC import Bayesian3FC, FC3\n",
    "from priors.gaussian import gaussian"
   ]
  },
  {
   "cell_type": "code",
   "execution_count": null,
   "metadata": {},
   "outputs": [],
   "source": []
  }
 ],
 "metadata": {
  "language_info": {
   "name": "python"
  },
  "orig_nbformat": 4
 },
 "nbformat": 4,
 "nbformat_minor": 2
}
