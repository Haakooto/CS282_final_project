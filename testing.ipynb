{
 "cells": [
  {
   "cell_type": "code",
   "execution_count": 21,
   "metadata": {},
   "outputs": [],
   "source": [
    "import numpy as np\n",
    "import torch\n",
    "from torch import nn\n",
    "from sklearn import datasets\n",
    "import matplotlib.pyplot as plt\n",
    "import torch.distributions as dist\n",
    "\n",
    "w0 = 0.125\n",
    "b0 = 5.\n",
    "x_range = [-20, 60]\n",
    "\n",
    "def load_dataset(n=150, n_tst=150):\n",
    "    np.random.seed(43)\n",
    "\n",
    "    def s(x):\n",
    "        g = (x - x_range[0]) / (x_range[1] - x_range[0])\n",
    "        return 3 * (0.25 + g**2.)\n",
    "\n",
    "    x = (x_range[1] - x_range[0]) * np.random.rand(n) + x_range[0]\n",
    "    eps = np.random.randn(n) * s(x)\n",
    "    y = (w0 * x * (1. + np.sin(x)) + b0) + eps\n",
    "    y = (y - y.mean()) / y.std()\n",
    "    idx = np.argsort(x)\n",
    "    x = x[idx]\n",
    "    y = y[idx]\n",
    "    return y[:, None], x[:, None]\n",
    "\n",
    "y, x = load_dataset()\n",
    "X = torch.tensor(x, dtype=torch.float)\n",
    "Y = torch.tensor(y, dtype=torch.float)"
   ]
  },
  {
   "cell_type": "code",
   "execution_count": 22,
   "metadata": {},
   "outputs": [
    {
     "data": {
      "text/plain": [
       "<matplotlib.collections.PathCollection at 0x282fa4ef520>"
      ]
     },
     "execution_count": 22,
     "metadata": {},
     "output_type": "execute_result"
    },
    {
     "data": {
      "image/png": "[encoded data removed]",
      "text/plain": [
       "<Figure size 1440x432 with 1 Axes>"
      ]
     },
     "metadata": {
      "needs_background": "light"
     },
     "output_type": "display_data"
    }
   ],
   "source": [
    "plt.figure(figsize=(20, 6))\n",
    "plt.scatter(X,Y)"
   ]
  },
  {
   "cell_type": "code",
   "execution_count": 77,
   "metadata": {},
   "outputs": [],
   "source": [
    "class LinearVariational(nn.Module):\n",
    "    \"\"\"\n",
    "    Mean field approximation of nn.Linear\n",
    "    \"\"\"\n",
    "    def __init__(self, in_features, out_features, parent, n_batches, bias=True):\n",
    "        super().__init__()\n",
    "        self.in_features = in_features\n",
    "        self.out_features = out_features\n",
    "        self.include_bias = bias        \n",
    "        self.parent = parent\n",
    "        self.n_batches = n_batches\n",
    "        \n",
    "        if getattr(parent, 'accumulated_kl_div', None) is None:\n",
    "            parent.accumulated_kl_div = 0\n",
    "            \n",
    "        # Initialize the variational parameters.\n",
    "        # 𝑄(𝑤)=N(𝜇_𝜃,𝜎2_𝜃)\n",
    "        # Do some random initialization with 𝜎=0.001\n",
    "        self.w_mu = nn.Parameter(\n",
    "            torch.FloatTensor(in_features, out_features).normal_(mean=0, std=0.001)\n",
    "        )\n",
    "        # proxy for variance\n",
    "        # log(1 + exp(ρ))◦ eps\n",
    "        self.w_p = nn.Parameter(\n",
    "            torch.FloatTensor(in_features, out_features).normal_(mean=-2.5, std=0.001)\n",
    "        )\n",
    "        if self.include_bias:\n",
    "            self.b_mu = nn.Parameter(\n",
    "                torch.zeros(out_features)\n",
    "            )\n",
    "            # proxy for variance\n",
    "            self.b_p = nn.Parameter(\n",
    "                torch.zeros(out_features)\n",
    "            )\n",
    "        \n",
    "    def reparameterize(self, mu, p):\n",
    "        sigma = torch.log(1 + torch.exp(p)) \n",
    "        eps = torch.randn_like(sigma)\n",
    "        return mu + (eps * sigma)\n",
    "    \n",
    "    def kl_divergence(self, z, mu_theta, p_theta, prior_sd=1):\n",
    "        log_prior = dist.Normal(0, prior_sd).log_prob(z) \n",
    "        log_p_q = dist.Normal(mu_theta, torch.log(1 + torch.exp(p_theta))).log_prob(z) \n",
    "        return (log_p_q - log_prior).sum() / self.n_batches\n",
    "\n",
    "    def forward(self, x):\n",
    "        w = self.reparameterize(self.w_mu, self.w_p)\n",
    "        \n",
    "        if self.include_bias:\n",
    "            b = self.reparameterize(self.b_mu, self.b_p)\n",
    "        else:\n",
    "            b = 0\n",
    "        x = x.type(torch.double)\n",
    "        w = w.type(torch.double)\n",
    "        b = b.type(torch.double)\n",
    "        \n",
    "        z = x @ w + b\n",
    "        \n",
    "        self.parent.accumulated_kl_div += self.kl_divergence(w, \n",
    "                                                             self.w_mu,\n",
    "                                                             self.w_p, \n",
    "                                                             )\n",
    "        if self.include_bias:\n",
    "            self.parent.accumulated_kl_div += self.kl_divergence(b, \n",
    "                                                                 self.b_mu, \n",
    "                                                                 self.b_p,\n",
    "                                                                 )\n",
    "        return z"
   ]
  },
  {
   "cell_type": "code",
   "execution_count": 75,
   "metadata": {},
   "outputs": [],
   "source": [
    "class KL:\n",
    "    accumulated_kl_div = 0\n",
    "\n",
    "class Model(nn.Module):\n",
    "    def __init__(self, in_size, hidden_size, out_size, n_batches):\n",
    "        super().__init__()\n",
    "        self.kl_loss = KL\n",
    "        \n",
    "        self.layers = nn.Sequential(\n",
    "            LinearVariational(in_size, hidden_size, self.kl_loss, n_batches),\n",
    "            nn.ReLU(),\n",
    "            LinearVariational(hidden_size, hidden_size, self.kl_loss, n_batches),\n",
    "            nn.ReLU(),\n",
    "            LinearVariational(hidden_size, out_size, self.kl_loss, n_batches)\n",
    "        )\n",
    "    \n",
    "    @property\n",
    "    def accumulated_kl_div(self):\n",
    "        return self.kl_loss.accumulated_kl_div\n",
    "    \n",
    "    def reset_kl_div(self):\n",
    "        self.kl_loss.accumulated_kl_div = 0\n",
    "            \n",
    "    def forward(self, x):\n",
    "        return self.layers(x)"
   ]
  },
  {
   "cell_type": "code",
   "execution_count": 67,
   "metadata": {},
   "outputs": [],
   "source": [
    "epochs = 2000\n",
    "\n",
    "def det_loss(y, y_pred, model):\n",
    "    batch_size = y.shape[0]\n",
    "    reconstruction_error = -dist.Normal(y_pred, .1).log_prob(y).sum()\n",
    "    kl = model.accumulated_kl_div\n",
    "    model.reset_kl_div()\n",
    "    return reconstruction_error + kl\n",
    "\n",
    "m = Model(1, 20, 1, n_batches=1)\n",
    "optim = torch.optim.Adam(m.parameters(), lr=0.01)\n",
    "\n",
    "for epoch in range(epochs):\n",
    "    optim.zero_grad()\n",
    "    y_pred = m(X)\n",
    "    loss = det_loss(y_pred, Y, m)\n",
    "    loss.backward()\n",
    "    optim.step()"
   ]
  },
  {
   "cell_type": "code",
   "execution_count": 68,
   "metadata": {},
   "outputs": [
    {
     "data": {
      "text/plain": [
       "<matplotlib.collections.PolyCollection at 0x28287ba9190>"
      ]
     },
     "execution_count": 68,
     "metadata": {},
     "output_type": "execute_result"
    },
    {
     "data": {
      "image/png": "[encoded data removed]",
      "text/plain": [
       "<Figure size 1152x432 with 1 Axes>"
      ]
     },
     "metadata": {
      "needs_background": "light"
     },
     "output_type": "display_data"
    }
   ],
   "source": [
    "with torch.no_grad():\n",
    "    trace = np.array([m(X).flatten().numpy() for _ in range(1000)]).T\n",
    "q_25, q_95 = np.quantile(trace, [0.05, 0.95], axis=1)\n",
    "plt.figure(figsize=(16, 6))\n",
    "plt.plot(X, trace.mean(1))\n",
    "plt.scatter(X, Y)\n",
    "plt.fill_between(X.flatten(), q_25, q_95, alpha=0.2)"
   ]
  },
  {
   "cell_type": "code",
   "execution_count": 86,
   "metadata": {},
   "outputs": [],
   "source": [
    "import training_utils as utils\n",
    "from tqdm import tqdm\n",
    "train_loader, test_data = utils.get_nanotube_data(batch_size=20)\n",
    "X_test, Y_test = test_data\n",
    "\n",
    "def plot_model_pred(model, Y_test, X_test):\n",
    "    Y_sample = Y_test.detach().numpy()[:100]\n",
    "    Y_pred_sample, kl = model(X_test)\n",
    "    Y_pred_sample = Y_pred_sample.detach().numpy()[:100]\n",
    "    plt.plot(Y_sample, \"bo-\", ms=8, label=\"target\")\n",
    "    plt.plot(Y_pred_sample, \"ro--\", ms=4, label=\"prediction\")\n",
    "    plt.legend()\n",
    "    plt.show()"
   ]
  },
  {
   "cell_type": "code",
   "execution_count": 88,
   "metadata": {},
   "outputs": [],
   "source": [
    "n_batches = len(train_loader)\n",
    "m = Model(7, 50, 1, n_batches)\n",
    "optim = torch.optim.Adam(m.parameters(), lr=0.01)\n",
    "\n",
    "# for epoch in range(epochs):\n",
    "#     optim.zero_grad()\n",
    "#     y_pred = m(X)\n",
    "#     loss = det_loss(y_pred, Y, m)\n",
    "#     loss.backward()\n",
    "#     optim.step()\n",
    "\n",
    "def train_model(model, optimizer, train_loader, num_epochs=30):\n",
    "    num_epochs = num_epochs\n",
    "    pbar = tqdm(range(num_epochs))\n",
    "    for i in pbar:\n",
    "        for bi, (x, y) in enumerate(train_loader):\n",
    "            # print(x.shape)\n",
    "            # print(y.shape)\n",
    "            x = x.type(torch.double)\n",
    "            y = y.type(torch.double)\n",
    "            y_pred= model(x)\n",
    "            loss = det_loss(y_pred, y, m)\n",
    "            loss.backward()\n",
    "            optimizer.step()\n",
    "\n",
    "        pbar.set_description(f\"{loss}\")"
   ]
  },
  {
   "cell_type": "code",
   "execution_count": 89,
   "metadata": {},
   "outputs": [
    {
     "name": "stderr",
     "output_type": "stream",
     "text": [
      "33615.21604323682:   7%|▋         | 2/30 [00:07<01:44,  3.74s/it] \n"
     ]
    },
    {
     "ename": "ValueError",
     "evalue": "Expected parameter scale (Tensor of shape (50, 50)) of distribution Normal(loc: torch.Size([50, 50]), scale: torch.Size([50, 50])) to satisfy the constraint GreaterThan(lower_bound=0.0), but found invalid values:\ntensor([[5.9604e-06, 6.1989e-06, 6.6993e+00,  ..., 8.2254e-06, 7.1536e+00,\n         4.8482e+00],\n        [5.8110e+00, 7.2353e+00, 1.0729e-05,  ..., 6.7949e-06, 6.7053e+00,\n         7.8678e-06],\n        [5.8412e-06, 6.5556e+00, 5.8412e-06,  ..., 7.0408e+00, 5.7220e-06,\n         5.6076e+00],\n        ...,\n        [5.6028e-06, 8.3446e-06, 5.4836e-06,  ..., 1.2242e+00, 1.8655e-04,\n         7.1689e+00],\n        [7.1389e+00, 8.3602e-03, 5.6028e-06,  ..., 1.1921e-07, 6.6339e+00,\n         6.5187e+00],\n        [6.7068e+00, 7.2150e+00, 7.0174e+00,  ..., 1.6185e-01, 5.8412e-06,\n         7.0902e+00]], grad_fn=<LogBackward0>)",
     "output_type": "error",
     "traceback": [
      "\u001b[1;31m---------------------------------------------------------------------------\u001b[0m",
      "\u001b[1;31mValueError\u001b[0m                                Traceback (most recent call last)",
      "\u001b[1;32mc:\\Users\\Khachatur\\UCB\\282_DeepL\\CS282_final_project\\testing.ipynb Cell 9'\u001b[0m in \u001b[0;36m<cell line: 1>\u001b[1;34m()\u001b[0m\n\u001b[1;32m----> <a href='vscode-notebook-cell:/c%3A/Users/Khachatur/UCB/282_DeepL/CS282_final_project/testing.ipynb#ch0000010?line=0'>1</a>\u001b[0m train_model(m, optim, train_loader)\n\u001b[0;32m      <a href='vscode-notebook-cell:/c%3A/Users/Khachatur/UCB/282_DeepL/CS282_final_project/testing.ipynb#ch0000010?line=1'>2</a>\u001b[0m Y_test \u001b[39m=\u001b[39m Y_test\u001b[39m.\u001b[39mtype(torch\u001b[39m.\u001b[39mdouble)\n\u001b[0;32m      <a href='vscode-notebook-cell:/c%3A/Users/Khachatur/UCB/282_DeepL/CS282_final_project/testing.ipynb#ch0000010?line=2'>3</a>\u001b[0m X_test \u001b[39m=\u001b[39m X_test\u001b[39m.\u001b[39mtype(torch\u001b[39m.\u001b[39mdouble)\n",
      "\u001b[1;32mc:\\Users\\Khachatur\\UCB\\282_DeepL\\CS282_final_project\\testing.ipynb Cell 8'\u001b[0m in \u001b[0;36mtrain_model\u001b[1;34m(model, optimizer, train_loader, num_epochs)\u001b[0m\n\u001b[0;32m     <a href='vscode-notebook-cell:/c%3A/Users/Khachatur/UCB/282_DeepL/CS282_final_project/testing.ipynb#ch0000007?line=18'>19</a>\u001b[0m x \u001b[39m=\u001b[39m x\u001b[39m.\u001b[39mtype(torch\u001b[39m.\u001b[39mdouble)\n\u001b[0;32m     <a href='vscode-notebook-cell:/c%3A/Users/Khachatur/UCB/282_DeepL/CS282_final_project/testing.ipynb#ch0000007?line=19'>20</a>\u001b[0m y \u001b[39m=\u001b[39m y\u001b[39m.\u001b[39mtype(torch\u001b[39m.\u001b[39mdouble)\n\u001b[1;32m---> <a href='vscode-notebook-cell:/c%3A/Users/Khachatur/UCB/282_DeepL/CS282_final_project/testing.ipynb#ch0000007?line=20'>21</a>\u001b[0m y_pred\u001b[39m=\u001b[39m model(x)\n\u001b[0;32m     <a href='vscode-notebook-cell:/c%3A/Users/Khachatur/UCB/282_DeepL/CS282_final_project/testing.ipynb#ch0000007?line=21'>22</a>\u001b[0m loss \u001b[39m=\u001b[39m det_loss(y_pred, y, m)\n\u001b[0;32m     <a href='vscode-notebook-cell:/c%3A/Users/Khachatur/UCB/282_DeepL/CS282_final_project/testing.ipynb#ch0000007?line=22'>23</a>\u001b[0m loss\u001b[39m.\u001b[39mbackward()\n",
      "File \u001b[1;32m~\\Miniconda3\\envs\\deep_learning_project\\lib\\site-packages\\torch\\nn\\modules\\module.py:1110\u001b[0m, in \u001b[0;36mModule._call_impl\u001b[1;34m(self, *input, **kwargs)\u001b[0m\n\u001b[0;32m   <a href='file:///c%3A/Users/Khachatur/Miniconda3/envs/deep_learning_project/lib/site-packages/torch/nn/modules/module.py?line=1105'>1106</a>\u001b[0m \u001b[39m# If we don't have any hooks, we want to skip the rest of the logic in\u001b[39;00m\n\u001b[0;32m   <a href='file:///c%3A/Users/Khachatur/Miniconda3/envs/deep_learning_project/lib/site-packages/torch/nn/modules/module.py?line=1106'>1107</a>\u001b[0m \u001b[39m# this function, and just call forward.\u001b[39;00m\n\u001b[0;32m   <a href='file:///c%3A/Users/Khachatur/Miniconda3/envs/deep_learning_project/lib/site-packages/torch/nn/modules/module.py?line=1107'>1108</a>\u001b[0m \u001b[39mif\u001b[39;00m \u001b[39mnot\u001b[39;00m (\u001b[39mself\u001b[39m\u001b[39m.\u001b[39m_backward_hooks \u001b[39mor\u001b[39;00m \u001b[39mself\u001b[39m\u001b[39m.\u001b[39m_forward_hooks \u001b[39mor\u001b[39;00m \u001b[39mself\u001b[39m\u001b[39m.\u001b[39m_forward_pre_hooks \u001b[39mor\u001b[39;00m _global_backward_hooks\n\u001b[0;32m   <a href='file:///c%3A/Users/Khachatur/Miniconda3/envs/deep_learning_project/lib/site-packages/torch/nn/modules/module.py?line=1108'>1109</a>\u001b[0m         \u001b[39mor\u001b[39;00m _global_forward_hooks \u001b[39mor\u001b[39;00m _global_forward_pre_hooks):\n\u001b[1;32m-> <a href='file:///c%3A/Users/Khachatur/Miniconda3/envs/deep_learning_project/lib/site-packages/torch/nn/modules/module.py?line=1109'>1110</a>\u001b[0m     \u001b[39mreturn\u001b[39;00m forward_call(\u001b[39m*\u001b[39m\u001b[39minput\u001b[39m, \u001b[39m*\u001b[39m\u001b[39m*\u001b[39mkwargs)\n\u001b[0;32m   <a href='file:///c%3A/Users/Khachatur/Miniconda3/envs/deep_learning_project/lib/site-packages/torch/nn/modules/module.py?line=1110'>1111</a>\u001b[0m \u001b[39m# Do not call functions when jit is used\u001b[39;00m\n\u001b[0;32m   <a href='file:///c%3A/Users/Khachatur/Miniconda3/envs/deep_learning_project/lib/site-packages/torch/nn/modules/module.py?line=1111'>1112</a>\u001b[0m full_backward_hooks, non_full_backward_hooks \u001b[39m=\u001b[39m [], []\n",
      "\u001b[1;32mc:\\Users\\Khachatur\\UCB\\282_DeepL\\CS282_final_project\\testing.ipynb Cell 4'\u001b[0m in \u001b[0;36mModel.forward\u001b[1;34m(self, x)\u001b[0m\n\u001b[0;32m     <a href='vscode-notebook-cell:/c%3A/Users/Khachatur/UCB/282_DeepL/CS282_final_project/testing.ipynb#ch0000003?line=23'>24</a>\u001b[0m \u001b[39mdef\u001b[39;00m \u001b[39mforward\u001b[39m(\u001b[39mself\u001b[39m, x):\n\u001b[1;32m---> <a href='vscode-notebook-cell:/c%3A/Users/Khachatur/UCB/282_DeepL/CS282_final_project/testing.ipynb#ch0000003?line=24'>25</a>\u001b[0m     \u001b[39mreturn\u001b[39;00m \u001b[39mself\u001b[39;49m\u001b[39m.\u001b[39;49mlayers(x)\n",
      "File \u001b[1;32m~\\Miniconda3\\envs\\deep_learning_project\\lib\\site-packages\\torch\\nn\\modules\\module.py:1110\u001b[0m, in \u001b[0;36mModule._call_impl\u001b[1;34m(self, *input, **kwargs)\u001b[0m\n\u001b[0;32m   <a href='file:///c%3A/Users/Khachatur/Miniconda3/envs/deep_learning_project/lib/site-packages/torch/nn/modules/module.py?line=1105'>1106</a>\u001b[0m \u001b[39m# If we don't have any hooks, we want to skip the rest of the logic in\u001b[39;00m\n\u001b[0;32m   <a href='file:///c%3A/Users/Khachatur/Miniconda3/envs/deep_learning_project/lib/site-packages/torch/nn/modules/module.py?line=1106'>1107</a>\u001b[0m \u001b[39m# this function, and just call forward.\u001b[39;00m\n\u001b[0;32m   <a href='file:///c%3A/Users/Khachatur/Miniconda3/envs/deep_learning_project/lib/site-packages/torch/nn/modules/module.py?line=1107'>1108</a>\u001b[0m \u001b[39mif\u001b[39;00m \u001b[39mnot\u001b[39;00m (\u001b[39mself\u001b[39m\u001b[39m.\u001b[39m_backward_hooks \u001b[39mor\u001b[39;00m \u001b[39mself\u001b[39m\u001b[39m.\u001b[39m_forward_hooks \u001b[39mor\u001b[39;00m \u001b[39mself\u001b[39m\u001b[39m.\u001b[39m_forward_pre_hooks \u001b[39mor\u001b[39;00m _global_backward_hooks\n\u001b[0;32m   <a href='file:///c%3A/Users/Khachatur/Miniconda3/envs/deep_learning_project/lib/site-packages/torch/nn/modules/module.py?line=1108'>1109</a>\u001b[0m         \u001b[39mor\u001b[39;00m _global_forward_hooks \u001b[39mor\u001b[39;00m _global_forward_pre_hooks):\n\u001b[1;32m-> <a href='file:///c%3A/Users/Khachatur/Miniconda3/envs/deep_learning_project/lib/site-packages/torch/nn/modules/module.py?line=1109'>1110</a>\u001b[0m     \u001b[39mreturn\u001b[39;00m forward_call(\u001b[39m*\u001b[39m\u001b[39minput\u001b[39m, \u001b[39m*\u001b[39m\u001b[39m*\u001b[39mkwargs)\n\u001b[0;32m   <a href='file:///c%3A/Users/Khachatur/Miniconda3/envs/deep_learning_project/lib/site-packages/torch/nn/modules/module.py?line=1110'>1111</a>\u001b[0m \u001b[39m# Do not call functions when jit is used\u001b[39;00m\n\u001b[0;32m   <a href='file:///c%3A/Users/Khachatur/Miniconda3/envs/deep_learning_project/lib/site-packages/torch/nn/modules/module.py?line=1111'>1112</a>\u001b[0m full_backward_hooks, non_full_backward_hooks \u001b[39m=\u001b[39m [], []\n",
      "File \u001b[1;32m~\\Miniconda3\\envs\\deep_learning_project\\lib\\site-packages\\torch\\nn\\modules\\container.py:141\u001b[0m, in \u001b[0;36mSequential.forward\u001b[1;34m(self, input)\u001b[0m\n\u001b[0;32m    <a href='file:///c%3A/Users/Khachatur/Miniconda3/envs/deep_learning_project/lib/site-packages/torch/nn/modules/container.py?line=138'>139</a>\u001b[0m \u001b[39mdef\u001b[39;00m \u001b[39mforward\u001b[39m(\u001b[39mself\u001b[39m, \u001b[39minput\u001b[39m):\n\u001b[0;32m    <a href='file:///c%3A/Users/Khachatur/Miniconda3/envs/deep_learning_project/lib/site-packages/torch/nn/modules/container.py?line=139'>140</a>\u001b[0m     \u001b[39mfor\u001b[39;00m module \u001b[39min\u001b[39;00m \u001b[39mself\u001b[39m:\n\u001b[1;32m--> <a href='file:///c%3A/Users/Khachatur/Miniconda3/envs/deep_learning_project/lib/site-packages/torch/nn/modules/container.py?line=140'>141</a>\u001b[0m         \u001b[39minput\u001b[39m \u001b[39m=\u001b[39m module(\u001b[39minput\u001b[39;49m)\n\u001b[0;32m    <a href='file:///c%3A/Users/Khachatur/Miniconda3/envs/deep_learning_project/lib/site-packages/torch/nn/modules/container.py?line=141'>142</a>\u001b[0m     \u001b[39mreturn\u001b[39;00m \u001b[39minput\u001b[39m\n",
      "File \u001b[1;32m~\\Miniconda3\\envs\\deep_learning_project\\lib\\site-packages\\torch\\nn\\modules\\module.py:1110\u001b[0m, in \u001b[0;36mModule._call_impl\u001b[1;34m(self, *input, **kwargs)\u001b[0m\n\u001b[0;32m   <a href='file:///c%3A/Users/Khachatur/Miniconda3/envs/deep_learning_project/lib/site-packages/torch/nn/modules/module.py?line=1105'>1106</a>\u001b[0m \u001b[39m# If we don't have any hooks, we want to skip the rest of the logic in\u001b[39;00m\n\u001b[0;32m   <a href='file:///c%3A/Users/Khachatur/Miniconda3/envs/deep_learning_project/lib/site-packages/torch/nn/modules/module.py?line=1106'>1107</a>\u001b[0m \u001b[39m# this function, and just call forward.\u001b[39;00m\n\u001b[0;32m   <a href='file:///c%3A/Users/Khachatur/Miniconda3/envs/deep_learning_project/lib/site-packages/torch/nn/modules/module.py?line=1107'>1108</a>\u001b[0m \u001b[39mif\u001b[39;00m \u001b[39mnot\u001b[39;00m (\u001b[39mself\u001b[39m\u001b[39m.\u001b[39m_backward_hooks \u001b[39mor\u001b[39;00m \u001b[39mself\u001b[39m\u001b[39m.\u001b[39m_forward_hooks \u001b[39mor\u001b[39;00m \u001b[39mself\u001b[39m\u001b[39m.\u001b[39m_forward_pre_hooks \u001b[39mor\u001b[39;00m _global_backward_hooks\n\u001b[0;32m   <a href='file:///c%3A/Users/Khachatur/Miniconda3/envs/deep_learning_project/lib/site-packages/torch/nn/modules/module.py?line=1108'>1109</a>\u001b[0m         \u001b[39mor\u001b[39;00m _global_forward_hooks \u001b[39mor\u001b[39;00m _global_forward_pre_hooks):\n\u001b[1;32m-> <a href='file:///c%3A/Users/Khachatur/Miniconda3/envs/deep_learning_project/lib/site-packages/torch/nn/modules/module.py?line=1109'>1110</a>\u001b[0m     \u001b[39mreturn\u001b[39;00m forward_call(\u001b[39m*\u001b[39m\u001b[39minput\u001b[39m, \u001b[39m*\u001b[39m\u001b[39m*\u001b[39mkwargs)\n\u001b[0;32m   <a href='file:///c%3A/Users/Khachatur/Miniconda3/envs/deep_learning_project/lib/site-packages/torch/nn/modules/module.py?line=1110'>1111</a>\u001b[0m \u001b[39m# Do not call functions when jit is used\u001b[39;00m\n\u001b[0;32m   <a href='file:///c%3A/Users/Khachatur/Miniconda3/envs/deep_learning_project/lib/site-packages/torch/nn/modules/module.py?line=1111'>1112</a>\u001b[0m full_backward_hooks, non_full_backward_hooks \u001b[39m=\u001b[39m [], []\n",
      "\u001b[1;32mc:\\Users\\Khachatur\\UCB\\282_DeepL\\CS282_final_project\\testing.ipynb Cell 3'\u001b[0m in \u001b[0;36mLinearVariational.forward\u001b[1;34m(self, x)\u001b[0m\n\u001b[0;32m     <a href='vscode-notebook-cell:/c%3A/Users/Khachatur/UCB/282_DeepL/CS282_final_project/testing.ipynb#ch0000002?line=54'>55</a>\u001b[0m b \u001b[39m=\u001b[39m b\u001b[39m.\u001b[39mtype(torch\u001b[39m.\u001b[39mdouble)\n\u001b[0;32m     <a href='vscode-notebook-cell:/c%3A/Users/Khachatur/UCB/282_DeepL/CS282_final_project/testing.ipynb#ch0000002?line=56'>57</a>\u001b[0m z \u001b[39m=\u001b[39m x \u001b[39m@\u001b[39m w \u001b[39m+\u001b[39m b\n\u001b[1;32m---> <a href='vscode-notebook-cell:/c%3A/Users/Khachatur/UCB/282_DeepL/CS282_final_project/testing.ipynb#ch0000002?line=58'>59</a>\u001b[0m \u001b[39mself\u001b[39m\u001b[39m.\u001b[39mparent\u001b[39m.\u001b[39maccumulated_kl_div \u001b[39m+\u001b[39m\u001b[39m=\u001b[39m \u001b[39mself\u001b[39;49m\u001b[39m.\u001b[39;49mkl_divergence(w, \n\u001b[0;32m     <a href='vscode-notebook-cell:/c%3A/Users/Khachatur/UCB/282_DeepL/CS282_final_project/testing.ipynb#ch0000002?line=59'>60</a>\u001b[0m                                                      \u001b[39mself\u001b[39;49m\u001b[39m.\u001b[39;49mw_mu,\n\u001b[0;32m     <a href='vscode-notebook-cell:/c%3A/Users/Khachatur/UCB/282_DeepL/CS282_final_project/testing.ipynb#ch0000002?line=60'>61</a>\u001b[0m                                                      \u001b[39mself\u001b[39;49m\u001b[39m.\u001b[39;49mw_p, \n\u001b[0;32m     <a href='vscode-notebook-cell:/c%3A/Users/Khachatur/UCB/282_DeepL/CS282_final_project/testing.ipynb#ch0000002?line=61'>62</a>\u001b[0m                                                      )\n\u001b[0;32m     <a href='vscode-notebook-cell:/c%3A/Users/Khachatur/UCB/282_DeepL/CS282_final_project/testing.ipynb#ch0000002?line=62'>63</a>\u001b[0m \u001b[39mif\u001b[39;00m \u001b[39mself\u001b[39m\u001b[39m.\u001b[39minclude_bias:\n\u001b[0;32m     <a href='vscode-notebook-cell:/c%3A/Users/Khachatur/UCB/282_DeepL/CS282_final_project/testing.ipynb#ch0000002?line=63'>64</a>\u001b[0m     \u001b[39mself\u001b[39m\u001b[39m.\u001b[39mparent\u001b[39m.\u001b[39maccumulated_kl_div \u001b[39m+\u001b[39m\u001b[39m=\u001b[39m \u001b[39mself\u001b[39m\u001b[39m.\u001b[39mkl_divergence(b, \n\u001b[0;32m     <a href='vscode-notebook-cell:/c%3A/Users/Khachatur/UCB/282_DeepL/CS282_final_project/testing.ipynb#ch0000002?line=64'>65</a>\u001b[0m                                                          \u001b[39mself\u001b[39m\u001b[39m.\u001b[39mb_mu, \n\u001b[0;32m     <a href='vscode-notebook-cell:/c%3A/Users/Khachatur/UCB/282_DeepL/CS282_final_project/testing.ipynb#ch0000002?line=65'>66</a>\u001b[0m                                                          \u001b[39mself\u001b[39m\u001b[39m.\u001b[39mb_p,\n\u001b[0;32m     <a href='vscode-notebook-cell:/c%3A/Users/Khachatur/UCB/282_DeepL/CS282_final_project/testing.ipynb#ch0000002?line=66'>67</a>\u001b[0m                                                          )\n",
      "\u001b[1;32mc:\\Users\\Khachatur\\UCB\\282_DeepL\\CS282_final_project\\testing.ipynb Cell 3'\u001b[0m in \u001b[0;36mLinearVariational.kl_divergence\u001b[1;34m(self, z, mu_theta, p_theta, prior_sd)\u001b[0m\n\u001b[0;32m     <a href='vscode-notebook-cell:/c%3A/Users/Khachatur/UCB/282_DeepL/CS282_final_project/testing.ipynb#ch0000002?line=40'>41</a>\u001b[0m \u001b[39mdef\u001b[39;00m \u001b[39mkl_divergence\u001b[39m(\u001b[39mself\u001b[39m, z, mu_theta, p_theta, prior_sd\u001b[39m=\u001b[39m\u001b[39m1\u001b[39m):\n\u001b[0;32m     <a href='vscode-notebook-cell:/c%3A/Users/Khachatur/UCB/282_DeepL/CS282_final_project/testing.ipynb#ch0000002?line=41'>42</a>\u001b[0m     log_prior \u001b[39m=\u001b[39m dist\u001b[39m.\u001b[39mNormal(\u001b[39m0\u001b[39m, prior_sd)\u001b[39m.\u001b[39mlog_prob(z) \n\u001b[1;32m---> <a href='vscode-notebook-cell:/c%3A/Users/Khachatur/UCB/282_DeepL/CS282_final_project/testing.ipynb#ch0000002?line=42'>43</a>\u001b[0m     log_p_q \u001b[39m=\u001b[39m dist\u001b[39m.\u001b[39;49mNormal(mu_theta, torch\u001b[39m.\u001b[39;49mlog(\u001b[39m1\u001b[39;49m \u001b[39m+\u001b[39;49m torch\u001b[39m.\u001b[39;49mexp(p_theta)))\u001b[39m.\u001b[39mlog_prob(z) \n\u001b[0;32m     <a href='vscode-notebook-cell:/c%3A/Users/Khachatur/UCB/282_DeepL/CS282_final_project/testing.ipynb#ch0000002?line=43'>44</a>\u001b[0m     \u001b[39mreturn\u001b[39;00m (log_p_q \u001b[39m-\u001b[39m log_prior)\u001b[39m.\u001b[39msum() \u001b[39m/\u001b[39m \u001b[39mself\u001b[39m\u001b[39m.\u001b[39mn_batches\n",
      "File \u001b[1;32m~\\Miniconda3\\envs\\deep_learning_project\\lib\\site-packages\\torch\\distributions\\normal.py:50\u001b[0m, in \u001b[0;36mNormal.__init__\u001b[1;34m(self, loc, scale, validate_args)\u001b[0m\n\u001b[0;32m     <a href='file:///c%3A/Users/Khachatur/Miniconda3/envs/deep_learning_project/lib/site-packages/torch/distributions/normal.py?line=47'>48</a>\u001b[0m \u001b[39melse\u001b[39;00m:\n\u001b[0;32m     <a href='file:///c%3A/Users/Khachatur/Miniconda3/envs/deep_learning_project/lib/site-packages/torch/distributions/normal.py?line=48'>49</a>\u001b[0m     batch_shape \u001b[39m=\u001b[39m \u001b[39mself\u001b[39m\u001b[39m.\u001b[39mloc\u001b[39m.\u001b[39msize()\n\u001b[1;32m---> <a href='file:///c%3A/Users/Khachatur/Miniconda3/envs/deep_learning_project/lib/site-packages/torch/distributions/normal.py?line=49'>50</a>\u001b[0m \u001b[39msuper\u001b[39;49m(Normal, \u001b[39mself\u001b[39;49m)\u001b[39m.\u001b[39;49m\u001b[39m__init__\u001b[39;49m(batch_shape, validate_args\u001b[39m=\u001b[39;49mvalidate_args)\n",
      "File \u001b[1;32m~\\Miniconda3\\envs\\deep_learning_project\\lib\\site-packages\\torch\\distributions\\distribution.py:55\u001b[0m, in \u001b[0;36mDistribution.__init__\u001b[1;34m(self, batch_shape, event_shape, validate_args)\u001b[0m\n\u001b[0;32m     <a href='file:///c%3A/Users/Khachatur/Miniconda3/envs/deep_learning_project/lib/site-packages/torch/distributions/distribution.py?line=52'>53</a>\u001b[0m         valid \u001b[39m=\u001b[39m constraint\u001b[39m.\u001b[39mcheck(value)\n\u001b[0;32m     <a href='file:///c%3A/Users/Khachatur/Miniconda3/envs/deep_learning_project/lib/site-packages/torch/distributions/distribution.py?line=53'>54</a>\u001b[0m         \u001b[39mif\u001b[39;00m \u001b[39mnot\u001b[39;00m valid\u001b[39m.\u001b[39mall():\n\u001b[1;32m---> <a href='file:///c%3A/Users/Khachatur/Miniconda3/envs/deep_learning_project/lib/site-packages/torch/distributions/distribution.py?line=54'>55</a>\u001b[0m             \u001b[39mraise\u001b[39;00m \u001b[39mValueError\u001b[39;00m(\n\u001b[0;32m     <a href='file:///c%3A/Users/Khachatur/Miniconda3/envs/deep_learning_project/lib/site-packages/torch/distributions/distribution.py?line=55'>56</a>\u001b[0m                 \u001b[39mf\u001b[39m\u001b[39m\"\u001b[39m\u001b[39mExpected parameter \u001b[39m\u001b[39m{\u001b[39;00mparam\u001b[39m}\u001b[39;00m\u001b[39m \u001b[39m\u001b[39m\"\u001b[39m\n\u001b[0;32m     <a href='file:///c%3A/Users/Khachatur/Miniconda3/envs/deep_learning_project/lib/site-packages/torch/distributions/distribution.py?line=56'>57</a>\u001b[0m                 \u001b[39mf\u001b[39m\u001b[39m\"\u001b[39m\u001b[39m(\u001b[39m\u001b[39m{\u001b[39;00m\u001b[39mtype\u001b[39m(value)\u001b[39m.\u001b[39m\u001b[39m__name__\u001b[39m\u001b[39m}\u001b[39;00m\u001b[39m of shape \u001b[39m\u001b[39m{\u001b[39;00m\u001b[39mtuple\u001b[39m(value\u001b[39m.\u001b[39mshape)\u001b[39m}\u001b[39;00m\u001b[39m) \u001b[39m\u001b[39m\"\u001b[39m\n\u001b[0;32m     <a href='file:///c%3A/Users/Khachatur/Miniconda3/envs/deep_learning_project/lib/site-packages/torch/distributions/distribution.py?line=57'>58</a>\u001b[0m                 \u001b[39mf\u001b[39m\u001b[39m\"\u001b[39m\u001b[39mof distribution \u001b[39m\u001b[39m{\u001b[39;00m\u001b[39mrepr\u001b[39m(\u001b[39mself\u001b[39m)\u001b[39m}\u001b[39;00m\u001b[39m \u001b[39m\u001b[39m\"\u001b[39m\n\u001b[0;32m     <a href='file:///c%3A/Users/Khachatur/Miniconda3/envs/deep_learning_project/lib/site-packages/torch/distributions/distribution.py?line=58'>59</a>\u001b[0m                 \u001b[39mf\u001b[39m\u001b[39m\"\u001b[39m\u001b[39mto satisfy the constraint \u001b[39m\u001b[39m{\u001b[39;00m\u001b[39mrepr\u001b[39m(constraint)\u001b[39m}\u001b[39;00m\u001b[39m, \u001b[39m\u001b[39m\"\u001b[39m\n\u001b[0;32m     <a href='file:///c%3A/Users/Khachatur/Miniconda3/envs/deep_learning_project/lib/site-packages/torch/distributions/distribution.py?line=59'>60</a>\u001b[0m                 \u001b[39mf\u001b[39m\u001b[39m\"\u001b[39m\u001b[39mbut found invalid values:\u001b[39m\u001b[39m\\n\u001b[39;00m\u001b[39m{\u001b[39;00mvalue\u001b[39m}\u001b[39;00m\u001b[39m\"\u001b[39m\n\u001b[0;32m     <a href='file:///c%3A/Users/Khachatur/Miniconda3/envs/deep_learning_project/lib/site-packages/torch/distributions/distribution.py?line=60'>61</a>\u001b[0m             )\n\u001b[0;32m     <a href='file:///c%3A/Users/Khachatur/Miniconda3/envs/deep_learning_project/lib/site-packages/torch/distributions/distribution.py?line=61'>62</a>\u001b[0m \u001b[39msuper\u001b[39m(Distribution, \u001b[39mself\u001b[39m)\u001b[39m.\u001b[39m\u001b[39m__init__\u001b[39m()\n",
      "\u001b[1;31mValueError\u001b[0m: Expected parameter scale (Tensor of shape (50, 50)) of distribution Normal(loc: torch.Size([50, 50]), scale: torch.Size([50, 50])) to satisfy the constraint GreaterThan(lower_bound=0.0), but found invalid values:\ntensor([[5.9604e-06, 6.1989e-06, 6.6993e+00,  ..., 8.2254e-06, 7.1536e+00,\n         4.8482e+00],\n        [5.8110e+00, 7.2353e+00, 1.0729e-05,  ..., 6.7949e-06, 6.7053e+00,\n         7.8678e-06],\n        [5.8412e-06, 6.5556e+00, 5.8412e-06,  ..., 7.0408e+00, 5.7220e-06,\n         5.6076e+00],\n        ...,\n        [5.6028e-06, 8.3446e-06, 5.4836e-06,  ..., 1.2242e+00, 1.8655e-04,\n         7.1689e+00],\n        [7.1389e+00, 8.3602e-03, 5.6028e-06,  ..., 1.1921e-07, 6.6339e+00,\n         6.5187e+00],\n        [6.7068e+00, 7.2150e+00, 7.0174e+00,  ..., 1.6185e-01, 5.8412e-06,\n         7.0902e+00]], grad_fn=<LogBackward0>)"
     ]
    }
   ],
   "source": [
    "train_model(m, optim, train_loader)\n",
    "Y_test = Y_test.type(torch.double)\n",
    "X_test = X_test.type(torch.double)\n",
    "plot_model_pred(m, Y_test, X_test)"
   ]
  },
  {
   "cell_type": "code",
   "execution_count": 43,
   "metadata": {},
   "outputs": [
    {
     "data": {
      "text/plain": [
       "torch.float64"
      ]
     },
     "execution_count": 43,
     "metadata": {},
     "output_type": "execute_result"
    }
   ],
   "source": [
    "X_test.dtype"
   ]
  },
  {
   "cell_type": "code",
   "execution_count": null,
   "metadata": {},
   "outputs": [],
   "source": []
  }
 ],
 "metadata": {
  "kernelspec": {
   "display_name": "deep_learning_project",
   "language": "python",
   "name": "deep_learning_project"
  },
  "language_info": {
   "codemirror_mode": {
    "name": "ipython",
    "version": 3
   },
   "file_extension": ".py",
   "mimetype": "text/x-python",
   "name": "python",
   "nbconvert_exporter": "python",
   "pygments_lexer": "ipython3",
   "version": "3.9.11"
  },
  "orig_nbformat": 4
 },
 "nbformat": 4,
 "nbformat_minor": 2
}
